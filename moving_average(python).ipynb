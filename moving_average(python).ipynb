{
 "cells": [
  {
   "cell_type": "code",
   "execution_count": null,
   "metadata": {},
   "outputs": [],
   "source": [
    "import numpy as np\n",
    "import matplotlib.pyplot as plt\n",
    "import pandas as pd\n",
    "\n",
    "data = pd.read_csv(\"7Train1.csv\", header=None)\n",
    "bandwidth = data.iloc[:,0]\n",
    "length = len(bandwidth)\n",
    "\n",
    "np.random.seed(0)\n",
    "N = length  # Number of samples\n",
    "filter_length = 5  # Length of the filter\n",
    "\n",
    "x = bandwidth  # original data\n",
    "predicted_moving_average = np.zeros(N-5)  # Initialize predicted array\n",
    "e_moving_average = np.zeros(N-5)  # Initialize error array\n",
    "\n",
    "# Prediction using Moving Average\n",
    "for k in range(0, N-5):\n",
    "    predicted_moving_average[k] = np.mean(x[k:k+5])\n",
    "\n",
    "    # Error calculation\n",
    "    e_moving_average[k] = x[k+5] - predicted_moving_average[k]\n",
    "\n",
    "\n",
    "\n",
    "mean=np.mean(predicted_moving_average[3600:4500])\n",
    "e_moving_average=e_moving_average[3605:4505]\n",
    "# Calculate RMSE\n",
    "rmse_moving_average = np.sqrt(np.mean(e_moving_average**2))\n",
    "mae_moving_average = np.mean(np.abs(e_moving_average))\n",
    "print(\"Moving Average - RMSE: \", rmse_moving_average)\n",
    "print(\"Moving Average - MAE: \", mae_moving_average)\n",
    "\n",
    "error_ratio_rmse = rmse/mean*100\n",
    "error_ratio_mae = mae/mean*100\n",
    "\n",
    "print(\"Error ratio for RMSE: \", error_ratio_rmse)\n",
    "print(\"Error ratio for MAE: \", error_ratio_mae)\n",
    "\n",
    "plt.figure(figsize=(12, 6))\n",
    "plt.plot(np.arange(6, N+1), x[5:], 'b', label='Original Signal')\n",
    "plt.plot(np.arange(6, N+1), predicted_moving_average, 'r--', label='Predicted Signal (Moving Average)')\n",
    "plt.xlim((500, 700))\n",
    "plt.title('Original vs. Predicted Signal (Moving Average)')\n",
    "plt.legend()\n",
    "plt.xlabel('Sample Index')\n",
    "plt.ylabel('Signal Value')\n",
    "plt.show()\n",
    "\\"
   ]
  }
 ],
 "metadata": {
  "language_info": {
   "name": "python"
  }
 },
 "nbformat": 4,
 "nbformat_minor": 2
}
