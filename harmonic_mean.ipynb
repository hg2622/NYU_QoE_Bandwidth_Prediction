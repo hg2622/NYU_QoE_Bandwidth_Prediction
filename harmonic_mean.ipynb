{
 "cells": [
  {
   "cell_type": "code",
   "execution_count": null,
   "metadata": {},
   "outputs": [],
   "source": [
    "import numpy as np\n",
    "import matplotlib.pyplot as plt\n",
    "import pandas as pd\n",
    "\n",
    "data = pd.read_csv(\"7Train1.csv\", header=None)\n",
    "bandwidth = data.iloc[:,0]\n",
    "length = len(bandwidth)\n",
    "\n",
    "np.random.seed(0)\n",
    "N = length  # Number of samples\n",
    "filter_length = 5  # Length of the filter\n",
    "\n",
    "x = bandwidth  # original data\n",
    "predicted_harmonic = np.zeros(N)  # Initialize predicted array\n",
    "e_harmonic = np.zeros(N)  # Initialize error array\n",
    "\n",
    "# Prediction using Harmonic Mean\n",
    "for k in range(0, N-5):\n",
    "    if np.all(x[k:k+5] != 0):  # Avoid division by zero\n",
    "        predicted_harmonic[k] = filter_length / np.sum(1.0 / x[k:k+5])\n",
    "    else:\n",
    "        predicted_harmonic[k] = x[k]  # If zero is encountered, use the last known value\n",
    "\n",
    "    # Error calculation\n",
    "    e_harmonic[k] = x[k+5] - predicted_harmonic[k]\n",
    "\n",
    "\n",
    "# Calculate RMSE\n",
    "rmse_harmonic = np.sqrt(np.mean(e_harmonic[3605:4505]**2))\n",
    "mae_harmonic = np.mean(np.abs(e_harmonic[3605:4505]))\n",
    "print(\"Harmonic Mean - RMSE: \", rmse_harmonic)\n",
    "print(\"Harmonic Mean - MAE: \", mae_harmonic)\n",
    "\n",
    "mean = np.mean(x[3600:4500])\n",
    "error_ratio_rmse = rmse/mean\n",
    "error_ratio_mae = mae/mean\n",
    "\n",
    "print(\"Error ratio for RMSE: \", error_ratio_rmse)\n",
    "print(\"Error ratio for MAE: \", error_ratio_mae)\n",
    "\n",
    "plt.figure(figsize=(12, 6))\n",
    "plt.plot(np.arange(1, N+1), x, 'b', label='Original Signal')\n",
    "plt.plot(np.arange(1, N+1), predicted_harmonic, 'r--', label='Predicted Signal (Harmonic Mean)')\n",
    "plt.xlim((1200, 1400))\n",
    "plt.title('Original vs. Predicted Signal (Harmonic Mean)')\n",
    "plt.legend()\n",
    "plt.xlabel('Sample Index')\n",
    "plt.ylabel('Signal Value')\n",
    "plt.show()\n"
   ]
  }
 ],
 "metadata": {
  "language_info": {
   "name": "python"
  }
 },
 "nbformat": 4,
 "nbformat_minor": 2
}
